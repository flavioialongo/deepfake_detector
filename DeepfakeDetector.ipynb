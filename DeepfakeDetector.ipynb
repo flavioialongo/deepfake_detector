{
<<<<<<< HEAD
  "cells": [
    {
      "cell_type": "code",
      "execution_count": 1,
      "metadata": {},
      "outputs": [],
      "source": [
        "import timm\n",
        "model = timm.create_model('efficientnet_b0', pretrained=True, num_classes=2)"
      ]
    },
    {
      "cell_type": "code",
      "execution_count": 9,
      "metadata": {},
      "outputs": [],
      "source": [
        "import os\n",
        "from pathlib import Path\n",
        "from PIL import Image\n",
        "from torch.utils.data import Dataset\n",
        "from torchvision import transforms\n",
        "from torch.utils.data import DataLoader\n",
        "import torch \n",
        "from sklearn.metrics import classification_report, confusion_matrix\n",
        "import seaborn as sns\n",
        "import matplotlib.pyplot as plt\n",
        "from sklearn.metrics import accuracy_score, f1_score\n",
        "from tqdm import tqdm \n",
        "import torch.nn as nn\n",
        "\n",
        "class RealFakeDataset(Dataset):\n",
        "    def __init__(self, root_dir, transform=None):\n",
        "        self.samples = []\n",
        "        self.transform = transform\n",
        "\n",
        "        # Expecting subfolders 'real/' and 'fake/' inside root_dir\n",
        "        for label_str, label in [(\"real\", 0), (\"fake\", 1)]:\n",
        "            folder = Path(root_dir) / label_str\n",
        "            if not folder.exists():\n",
        "                continue\n",
        "            for file in folder.glob(\"*.png\"):\n",
        "                self.samples.append((file, label))\n",
        "\n",
        "    def __len__(self):\n",
        "        return len(self.samples)\n",
        "\n",
        "    def __getitem__(self, idx):\n",
        "        path, label = self.samples[idx]\n",
        "        image = Image.open(path).convert(\"RGB\")\n",
        "        if self.transform:\n",
        "            image = self.transform(image)\n",
        "        return image, label\n",
        "\n",
        "\n",
        "    def collate_fn(self, batch):\n",
        "        images, labels = zip(*batch)  # unzip list of tuples\n",
        "        images = torch.stack(images)  # stack image tensors into a single batch tensor\n",
        "        labels = torch.tensor(labels) # convert labels to a tensor\n",
        "        return {\"image\": images, \"label\":labels }\n",
        "\n",
        "\n",
        "        "
      ]
    },
    {
      "cell_type": "code",
      "execution_count": 3,
      "metadata": {},
      "outputs": [],
      "source": [
        "train_path = \"dataset/train/\"\n",
        "test_path = \"dataset/test/\"\n",
        "validation_path = \"dataset/validation/\"\n",
        "\n",
        "transform = transforms.Compose([\n",
        "    transforms.Resize((256, 256)),\n",
        "    transforms.ToTensor(),\n",
        "])"
      ]
    },
    {
      "cell_type": "code",
      "execution_count": 4,
      "metadata": {},
      "outputs": [],
      "source": [
        "train_dataset = RealFakeDataset(train_path, transform=transform)\n",
        "train_dataloader = DataLoader(train_dataset, batch_size=32, shuffle=True, num_workers=4, collate_fn=train_dataset.collate_fn)\n",
        "\n",
        "test_dataset = RealFakeDataset(test_path, transform=transform)\n",
        "test_dataloader = DataLoader(test_dataset, batch_size=32, shuffle=True, num_workers=4, collate_fn=test_dataset.collate_fn)\n",
        "\n",
        "validation_dataset = RealFakeDataset(validation_path, transform=transform)\n",
        "validation_dataloader = DataLoader(validation_dataset, batch_size=32, shuffle=True, num_workers=4, collate_fn=validation_dataset.collate_fn)"
      ]
    },
    {
      "cell_type": "code",
      "execution_count": 5,
      "metadata": {},
      "outputs": [
        {
          "name": "stdout",
          "output_type": "stream",
          "text": [
            "torch.Size([32, 3, 256, 256])\n"
          ]
        }
      ],
      "source": [
        "for i, elem in enumerate(train_dataloader):\n",
        "    if(i==1):\n",
        "        break\n",
        "    print(elem[\"image\"].shape)"
      ]
    },
    {
      "cell_type": "code",
      "execution_count": 10,
      "metadata": {},
      "outputs": [],
      "source": [
        "device = \"cuda\" if torch.cuda.is_available() else \"cpu\"\n",
        "loss_ce = nn.CrossEntropyLoss()\n",
        "optimizer = torch.optim.Adam(model.parameters(), 0.001)\n"
      ]
    },
    {
      "cell_type": "code",
      "execution_count": 9,
      "metadata": {},
      "outputs": [],
      "source": [
        "for param in model.parameters():\n",
        "    param.requires_grad = True"
      ]
    },
    {
      "cell_type": "code",
      "execution_count": 13,
      "metadata": {},
      "outputs": [
        {
          "name": "stdout",
          "output_type": "stream",
          "text": [
            "Epoch [1/1], Loss: 0.3895\n"
          ]
        }
      ],
      "source": [
        "model.to(device)\n",
        "for epoch in range(1):\n",
        "    model.train()\n",
        "    for batch in train_dataloader:\n",
        "        images, labels = batch[\"image\"], batch[\"label\"]\n",
        "        images, labels = images.to(device), labels.to(device)\n",
        "\n",
        "        optimizer.zero_grad()\n",
        "\n",
        "        outputs = model(images)\n",
        "        loss = loss_ce(outputs, labels)\n",
        "        loss.backward()\n",
        "        optimizer.step()\n",
        "\n",
        "    print(f\"Epoch [{epoch+1}/{1}], Loss: {loss.item():.4f}\")\n"
      ]
    },
    {
      "cell_type": "code",
      "execution_count": null,
      "metadata": {},
      "outputs": [],
      "source": [
        "def report(model, test_loader, loss):\n",
        "    from sklearn.metrics import confusion_matrix, ConfusionMatrixDisplay, classification_report\n",
        "    import matplotlib.pyplot as plt\n",
        "    model = model.to(device)\n",
        "    model.eval()\n",
        "    all_predictions = []\n",
        "    all_targets = []\n",
        "\n",
        "    total_loss = 0.0\n",
        "    for batch in tqdm(test_loader):\n",
        "        input, target = batch[\"image\"], batch[\"label\"]\n",
        "\n",
        "        input = input.to(device)\n",
        "        target = target.to(device)\n",
        "\n",
        "        output = model(input)\n",
        "\n",
        "        l = loss(output, target)\n",
        "        total_loss += l.item()\n",
        "\n",
        "        # Get predictions\n",
        "        preds = torch.argmax(output, dim=1)  # Adjust if it's binary or multilabel\n",
        "\n",
        "        all_predictions.extend(preds.cpu().numpy())\n",
        "        all_targets.extend(target.cpu().numpy())\n",
        "\n",
        "    # Final cleanup after evaluation\n",
        "    import gc\n",
        "    gc.collect()\n",
        "    torch.cuda.empty_cache()\n",
        "\n",
        "    # Print classification report\n",
        "    print(\"\\nClassification Report:\")\n",
        "    print(classification_report(all_targets, all_predictions, digits=4))  # Adjust labels if needed\n",
        "\n",
        "    # Plot confusion matrix\n",
        "    label_names = [\"REAL\", \"FAKE\"]\n",
        "    \n",
        "    cm = confusion_matrix(all_targets, all_predictions)\n",
        "    disp = ConfusionMatrixDisplay(confusion_matrix=cm, display_labels=label_names)\n",
        "    disp.plot(cmap=plt.cm.Blues)\n",
        "    plt.title(\"Confusion Matrix\")\n",
        "    plt.show()"
      ]
    },
    {
      "cell_type": "code",
      "execution_count": 15,
      "metadata": {},
      "outputs": [
        {
          "name": "stderr",
          "output_type": "stream",
          "text": [
            "100%|██████████| 422/422 [00:11<00:00, 35.20it/s]\n"
          ]
        },
        {
          "name": "stdout",
          "output_type": "stream",
          "text": [
            "\n",
            "Classification Report:\n",
            "              precision    recall  f1-score   support\n",
            "\n",
            "           0     0.9892    0.9594    0.9741      9000\n",
            "           1     0.9235    0.9791    0.9505      4501\n",
            "\n",
            "    accuracy                         0.9660     13501\n",
            "   macro avg     0.9564    0.9693    0.9623     13501\n",
            "weighted avg     0.9673    0.9660    0.9662     13501\n",
            "\n"
          ]
        },
        {
          "ename": "ValueError",
          "evalue": "The number of FixedLocator locations (2), usually from a call to set_ticks, does not match the number of labels (3).",
          "output_type": "error",
          "traceback": [
            "\u001b[0;31m---------------------------------------------------------------------------\u001b[0m",
            "\u001b[0;31mValueError\u001b[0m                                Traceback (most recent call last)",
            "Cell \u001b[0;32mIn[15], line 1\u001b[0m\n\u001b[0;32m----> 1\u001b[0m \u001b[43mreport\u001b[49m\u001b[43m(\u001b[49m\u001b[43mmodel\u001b[49m\u001b[43m,\u001b[49m\u001b[43m \u001b[49m\u001b[43mtest_dataloader\u001b[49m\u001b[43m,\u001b[49m\u001b[43m \u001b[49m\u001b[43mloss_ce\u001b[49m\u001b[43m)\u001b[49m\n",
            "Cell \u001b[0;32mIn[14], line 40\u001b[0m, in \u001b[0;36mreport\u001b[0;34m(model, test_loader, loss)\u001b[0m\n\u001b[1;32m     38\u001b[0m cm \u001b[38;5;241m=\u001b[39m confusion_matrix(all_targets, all_predictions)\n\u001b[1;32m     39\u001b[0m disp \u001b[38;5;241m=\u001b[39m ConfusionMatrixDisplay(confusion_matrix\u001b[38;5;241m=\u001b[39mcm, display_labels\u001b[38;5;241m=\u001b[39mlabel_names)\n\u001b[0;32m---> 40\u001b[0m \u001b[43mdisp\u001b[49m\u001b[38;5;241;43m.\u001b[39;49m\u001b[43mplot\u001b[49m\u001b[43m(\u001b[49m\u001b[43mcmap\u001b[49m\u001b[38;5;241;43m=\u001b[39;49m\u001b[43mplt\u001b[49m\u001b[38;5;241;43m.\u001b[39;49m\u001b[43mcm\u001b[49m\u001b[38;5;241;43m.\u001b[39;49m\u001b[43mBlues\u001b[49m\u001b[43m)\u001b[49m\n\u001b[1;32m     41\u001b[0m plt\u001b[38;5;241m.\u001b[39mtitle(\u001b[38;5;124m\"\u001b[39m\u001b[38;5;124mConfusion Matrix\u001b[39m\u001b[38;5;124m\"\u001b[39m)\n\u001b[1;32m     42\u001b[0m plt\u001b[38;5;241m.\u001b[39mshow()\n",
            "File \u001b[0;32m~/machine_learning_env/lib/python3.12/site-packages/sklearn/metrics/_plot/confusion_matrix.py:185\u001b[0m, in \u001b[0;36mConfusionMatrixDisplay.plot\u001b[0;34m(self, include_values, cmap, xticks_rotation, values_format, ax, colorbar, im_kw, text_kw)\u001b[0m\n\u001b[1;32m    183\u001b[0m \u001b[38;5;28;01mif\u001b[39;00m colorbar:\n\u001b[1;32m    184\u001b[0m     fig\u001b[38;5;241m.\u001b[39mcolorbar(\u001b[38;5;28mself\u001b[39m\u001b[38;5;241m.\u001b[39mim_, ax\u001b[38;5;241m=\u001b[39max)\n\u001b[0;32m--> 185\u001b[0m \u001b[43max\u001b[49m\u001b[38;5;241;43m.\u001b[39;49m\u001b[43mset\u001b[49m\u001b[43m(\u001b[49m\n\u001b[1;32m    186\u001b[0m \u001b[43m    \u001b[49m\u001b[43mxticks\u001b[49m\u001b[38;5;241;43m=\u001b[39;49m\u001b[43mnp\u001b[49m\u001b[38;5;241;43m.\u001b[39;49m\u001b[43marange\u001b[49m\u001b[43m(\u001b[49m\u001b[43mn_classes\u001b[49m\u001b[43m)\u001b[49m\u001b[43m,\u001b[49m\n\u001b[1;32m    187\u001b[0m \u001b[43m    \u001b[49m\u001b[43myticks\u001b[49m\u001b[38;5;241;43m=\u001b[39;49m\u001b[43mnp\u001b[49m\u001b[38;5;241;43m.\u001b[39;49m\u001b[43marange\u001b[49m\u001b[43m(\u001b[49m\u001b[43mn_classes\u001b[49m\u001b[43m)\u001b[49m\u001b[43m,\u001b[49m\n\u001b[1;32m    188\u001b[0m \u001b[43m    \u001b[49m\u001b[43mxticklabels\u001b[49m\u001b[38;5;241;43m=\u001b[39;49m\u001b[43mdisplay_labels\u001b[49m\u001b[43m,\u001b[49m\n\u001b[1;32m    189\u001b[0m \u001b[43m    \u001b[49m\u001b[43myticklabels\u001b[49m\u001b[38;5;241;43m=\u001b[39;49m\u001b[43mdisplay_labels\u001b[49m\u001b[43m,\u001b[49m\n\u001b[1;32m    190\u001b[0m \u001b[43m    \u001b[49m\u001b[43mylabel\u001b[49m\u001b[38;5;241;43m=\u001b[39;49m\u001b[38;5;124;43m\"\u001b[39;49m\u001b[38;5;124;43mTrue label\u001b[39;49m\u001b[38;5;124;43m\"\u001b[39;49m\u001b[43m,\u001b[49m\n\u001b[1;32m    191\u001b[0m \u001b[43m    \u001b[49m\u001b[43mxlabel\u001b[49m\u001b[38;5;241;43m=\u001b[39;49m\u001b[38;5;124;43m\"\u001b[39;49m\u001b[38;5;124;43mPredicted label\u001b[39;49m\u001b[38;5;124;43m\"\u001b[39;49m\u001b[43m,\u001b[49m\n\u001b[1;32m    192\u001b[0m \u001b[43m\u001b[49m\u001b[43m)\u001b[49m\n\u001b[1;32m    194\u001b[0m ax\u001b[38;5;241m.\u001b[39mset_ylim((n_classes \u001b[38;5;241m-\u001b[39m \u001b[38;5;241m0.5\u001b[39m, \u001b[38;5;241m-\u001b[39m\u001b[38;5;241m0.5\u001b[39m))\n\u001b[1;32m    195\u001b[0m plt\u001b[38;5;241m.\u001b[39msetp(ax\u001b[38;5;241m.\u001b[39mget_xticklabels(), rotation\u001b[38;5;241m=\u001b[39mxticks_rotation)\n",
            "File \u001b[0;32m~/machine_learning_env/lib/python3.12/site-packages/matplotlib/artist.py:146\u001b[0m, in \u001b[0;36mArtist.__init_subclass__.<locals>.<lambda>\u001b[0;34m(self, **kwargs)\u001b[0m\n\u001b[1;32m    138\u001b[0m \u001b[38;5;28;01mif\u001b[39;00m \u001b[38;5;129;01mnot\u001b[39;00m \u001b[38;5;28mhasattr\u001b[39m(\u001b[38;5;28mcls\u001b[39m\u001b[38;5;241m.\u001b[39mset, \u001b[38;5;124m'\u001b[39m\u001b[38;5;124m_autogenerated_signature\u001b[39m\u001b[38;5;124m'\u001b[39m):\n\u001b[1;32m    139\u001b[0m     \u001b[38;5;66;03m# Don't overwrite cls.set if the subclass or one of its parents\u001b[39;00m\n\u001b[1;32m    140\u001b[0m     \u001b[38;5;66;03m# has defined a set method set itself.\u001b[39;00m\n\u001b[1;32m    141\u001b[0m     \u001b[38;5;66;03m# If there was no explicit definition, cls.set is inherited from\u001b[39;00m\n\u001b[1;32m    142\u001b[0m     \u001b[38;5;66;03m# the hierarchy of auto-generated set methods, which hold the\u001b[39;00m\n\u001b[1;32m    143\u001b[0m     \u001b[38;5;66;03m# flag _autogenerated_signature.\u001b[39;00m\n\u001b[1;32m    144\u001b[0m     \u001b[38;5;28;01mreturn\u001b[39;00m\n\u001b[0;32m--> 146\u001b[0m \u001b[38;5;28mcls\u001b[39m\u001b[38;5;241m.\u001b[39mset \u001b[38;5;241m=\u001b[39m \u001b[38;5;28;01mlambda\u001b[39;00m \u001b[38;5;28mself\u001b[39m, \u001b[38;5;241m*\u001b[39m\u001b[38;5;241m*\u001b[39mkwargs: \u001b[43mArtist\u001b[49m\u001b[38;5;241;43m.\u001b[39;49m\u001b[43mset\u001b[49m\u001b[43m(\u001b[49m\u001b[38;5;28;43mself\u001b[39;49m\u001b[43m,\u001b[49m\u001b[43m \u001b[49m\u001b[38;5;241;43m*\u001b[39;49m\u001b[38;5;241;43m*\u001b[39;49m\u001b[43mkwargs\u001b[49m\u001b[43m)\u001b[49m\n\u001b[1;32m    147\u001b[0m \u001b[38;5;28mcls\u001b[39m\u001b[38;5;241m.\u001b[39mset\u001b[38;5;241m.\u001b[39m\u001b[38;5;18m__name__\u001b[39m \u001b[38;5;241m=\u001b[39m \u001b[38;5;124m\"\u001b[39m\u001b[38;5;124mset\u001b[39m\u001b[38;5;124m\"\u001b[39m\n\u001b[1;32m    148\u001b[0m \u001b[38;5;28mcls\u001b[39m\u001b[38;5;241m.\u001b[39mset\u001b[38;5;241m.\u001b[39m\u001b[38;5;18m__qualname__\u001b[39m \u001b[38;5;241m=\u001b[39m \u001b[38;5;124mf\u001b[39m\u001b[38;5;124m\"\u001b[39m\u001b[38;5;132;01m{\u001b[39;00m\u001b[38;5;28mcls\u001b[39m\u001b[38;5;241m.\u001b[39m\u001b[38;5;18m__qualname__\u001b[39m\u001b[38;5;132;01m}\u001b[39;00m\u001b[38;5;124m.set\u001b[39m\u001b[38;5;124m\"\u001b[39m\n",
            "File \u001b[0;32m~/machine_learning_env/lib/python3.12/site-packages/matplotlib/artist.py:1241\u001b[0m, in \u001b[0;36mArtist.set\u001b[0;34m(self, **kwargs)\u001b[0m\n\u001b[1;32m   1237\u001b[0m \u001b[38;5;28;01mdef\u001b[39;00m \u001b[38;5;21mset\u001b[39m(\u001b[38;5;28mself\u001b[39m, \u001b[38;5;241m*\u001b[39m\u001b[38;5;241m*\u001b[39mkwargs):\n\u001b[1;32m   1238\u001b[0m     \u001b[38;5;66;03m# docstring and signature are auto-generated via\u001b[39;00m\n\u001b[1;32m   1239\u001b[0m     \u001b[38;5;66;03m# Artist._update_set_signature_and_docstring() at the end of the\u001b[39;00m\n\u001b[1;32m   1240\u001b[0m     \u001b[38;5;66;03m# module.\u001b[39;00m\n\u001b[0;32m-> 1241\u001b[0m     \u001b[38;5;28;01mreturn\u001b[39;00m \u001b[38;5;28;43mself\u001b[39;49m\u001b[38;5;241;43m.\u001b[39;49m\u001b[43m_internal_update\u001b[49m\u001b[43m(\u001b[49m\u001b[43mcbook\u001b[49m\u001b[38;5;241;43m.\u001b[39;49m\u001b[43mnormalize_kwargs\u001b[49m\u001b[43m(\u001b[49m\u001b[43mkwargs\u001b[49m\u001b[43m,\u001b[49m\u001b[43m \u001b[49m\u001b[38;5;28;43mself\u001b[39;49m\u001b[43m)\u001b[49m\u001b[43m)\u001b[49m\n",
            "File \u001b[0;32m~/machine_learning_env/lib/python3.12/site-packages/matplotlib/artist.py:1233\u001b[0m, in \u001b[0;36mArtist._internal_update\u001b[0;34m(self, kwargs)\u001b[0m\n\u001b[1;32m   1226\u001b[0m \u001b[38;5;28;01mdef\u001b[39;00m \u001b[38;5;21m_internal_update\u001b[39m(\u001b[38;5;28mself\u001b[39m, kwargs):\n\u001b[1;32m   1227\u001b[0m \u001b[38;5;250m    \u001b[39m\u001b[38;5;124;03m\"\"\"\u001b[39;00m\n\u001b[1;32m   1228\u001b[0m \u001b[38;5;124;03m    Update artist properties without prenormalizing them, but generating\u001b[39;00m\n\u001b[1;32m   1229\u001b[0m \u001b[38;5;124;03m    errors as if calling `set`.\u001b[39;00m\n\u001b[1;32m   1230\u001b[0m \n\u001b[1;32m   1231\u001b[0m \u001b[38;5;124;03m    The lack of prenormalization is to maintain backcompatibility.\u001b[39;00m\n\u001b[1;32m   1232\u001b[0m \u001b[38;5;124;03m    \"\"\"\u001b[39;00m\n\u001b[0;32m-> 1233\u001b[0m     \u001b[38;5;28;01mreturn\u001b[39;00m \u001b[38;5;28;43mself\u001b[39;49m\u001b[38;5;241;43m.\u001b[39;49m\u001b[43m_update_props\u001b[49m\u001b[43m(\u001b[49m\n\u001b[1;32m   1234\u001b[0m \u001b[43m        \u001b[49m\u001b[43mkwargs\u001b[49m\u001b[43m,\u001b[49m\u001b[43m \u001b[49m\u001b[38;5;124;43m\"\u001b[39;49m\u001b[38;5;132;43;01m{cls.__name__}\u001b[39;49;00m\u001b[38;5;124;43m.set() got an unexpected keyword argument \u001b[39;49m\u001b[38;5;124;43m\"\u001b[39;49m\n\u001b[1;32m   1235\u001b[0m \u001b[43m        \u001b[49m\u001b[38;5;124;43m\"\u001b[39;49m\u001b[38;5;132;43;01m{prop_name!r}\u001b[39;49;00m\u001b[38;5;124;43m\"\u001b[39;49m\u001b[43m)\u001b[49m\n",
            "File \u001b[0;32m~/machine_learning_env/lib/python3.12/site-packages/matplotlib/artist.py:1209\u001b[0m, in \u001b[0;36mArtist._update_props\u001b[0;34m(self, props, errfmt)\u001b[0m\n\u001b[1;32m   1205\u001b[0m             \u001b[38;5;28;01mif\u001b[39;00m \u001b[38;5;129;01mnot\u001b[39;00m \u001b[38;5;28mcallable\u001b[39m(func):\n\u001b[1;32m   1206\u001b[0m                 \u001b[38;5;28;01mraise\u001b[39;00m \u001b[38;5;167;01mAttributeError\u001b[39;00m(\n\u001b[1;32m   1207\u001b[0m                     errfmt\u001b[38;5;241m.\u001b[39mformat(\u001b[38;5;28mcls\u001b[39m\u001b[38;5;241m=\u001b[39m\u001b[38;5;28mtype\u001b[39m(\u001b[38;5;28mself\u001b[39m), prop_name\u001b[38;5;241m=\u001b[39mk),\n\u001b[1;32m   1208\u001b[0m                     name\u001b[38;5;241m=\u001b[39mk)\n\u001b[0;32m-> 1209\u001b[0m             ret\u001b[38;5;241m.\u001b[39mappend(\u001b[43mfunc\u001b[49m\u001b[43m(\u001b[49m\u001b[43mv\u001b[49m\u001b[43m)\u001b[49m)\n\u001b[1;32m   1210\u001b[0m \u001b[38;5;28;01mif\u001b[39;00m ret:\n\u001b[1;32m   1211\u001b[0m     \u001b[38;5;28mself\u001b[39m\u001b[38;5;241m.\u001b[39mpchanged()\n",
            "File \u001b[0;32m~/machine_learning_env/lib/python3.12/site-packages/matplotlib/axes/_base.py:74\u001b[0m, in \u001b[0;36m_axis_method_wrapper.__set_name__.<locals>.wrapper\u001b[0;34m(self, *args, **kwargs)\u001b[0m\n\u001b[1;32m     73\u001b[0m \u001b[38;5;28;01mdef\u001b[39;00m \u001b[38;5;21mwrapper\u001b[39m(\u001b[38;5;28mself\u001b[39m, \u001b[38;5;241m*\u001b[39margs, \u001b[38;5;241m*\u001b[39m\u001b[38;5;241m*\u001b[39mkwargs):\n\u001b[0;32m---> 74\u001b[0m     \u001b[38;5;28;01mreturn\u001b[39;00m \u001b[43mget_method\u001b[49m\u001b[43m(\u001b[49m\u001b[38;5;28;43mself\u001b[39;49m\u001b[43m)\u001b[49m\u001b[43m(\u001b[49m\u001b[38;5;241;43m*\u001b[39;49m\u001b[43margs\u001b[49m\u001b[43m,\u001b[49m\u001b[43m \u001b[49m\u001b[38;5;241;43m*\u001b[39;49m\u001b[38;5;241;43m*\u001b[39;49m\u001b[43mkwargs\u001b[49m\u001b[43m)\u001b[49m\n",
            "File \u001b[0;32m~/machine_learning_env/lib/python3.12/site-packages/matplotlib/axis.py:2117\u001b[0m, in \u001b[0;36mAxis.set_ticklabels\u001b[0;34m(self, labels, minor, fontdict, **kwargs)\u001b[0m\n\u001b[1;32m   2113\u001b[0m \u001b[38;5;28;01melif\u001b[39;00m \u001b[38;5;28misinstance\u001b[39m(locator, mticker\u001b[38;5;241m.\u001b[39mFixedLocator):\n\u001b[1;32m   2114\u001b[0m     \u001b[38;5;66;03m# Passing [] as a list of labels is often used as a way to\u001b[39;00m\n\u001b[1;32m   2115\u001b[0m     \u001b[38;5;66;03m# remove all tick labels, so only error for > 0 labels\u001b[39;00m\n\u001b[1;32m   2116\u001b[0m     \u001b[38;5;28;01mif\u001b[39;00m \u001b[38;5;28mlen\u001b[39m(locator\u001b[38;5;241m.\u001b[39mlocs) \u001b[38;5;241m!=\u001b[39m \u001b[38;5;28mlen\u001b[39m(labels) \u001b[38;5;129;01mand\u001b[39;00m \u001b[38;5;28mlen\u001b[39m(labels) \u001b[38;5;241m!=\u001b[39m \u001b[38;5;241m0\u001b[39m:\n\u001b[0;32m-> 2117\u001b[0m         \u001b[38;5;28;01mraise\u001b[39;00m \u001b[38;5;167;01mValueError\u001b[39;00m(\n\u001b[1;32m   2118\u001b[0m             \u001b[38;5;124m\"\u001b[39m\u001b[38;5;124mThe number of FixedLocator locations\u001b[39m\u001b[38;5;124m\"\u001b[39m\n\u001b[1;32m   2119\u001b[0m             \u001b[38;5;124mf\u001b[39m\u001b[38;5;124m\"\u001b[39m\u001b[38;5;124m (\u001b[39m\u001b[38;5;132;01m{\u001b[39;00m\u001b[38;5;28mlen\u001b[39m(locator\u001b[38;5;241m.\u001b[39mlocs)\u001b[38;5;132;01m}\u001b[39;00m\u001b[38;5;124m), usually from a call to\u001b[39m\u001b[38;5;124m\"\u001b[39m\n\u001b[1;32m   2120\u001b[0m             \u001b[38;5;124m\"\u001b[39m\u001b[38;5;124m set_ticks, does not match\u001b[39m\u001b[38;5;124m\"\u001b[39m\n\u001b[1;32m   2121\u001b[0m             \u001b[38;5;124mf\u001b[39m\u001b[38;5;124m\"\u001b[39m\u001b[38;5;124m the number of labels (\u001b[39m\u001b[38;5;132;01m{\u001b[39;00m\u001b[38;5;28mlen\u001b[39m(labels)\u001b[38;5;132;01m}\u001b[39;00m\u001b[38;5;124m).\u001b[39m\u001b[38;5;124m\"\u001b[39m)\n\u001b[1;32m   2122\u001b[0m     tickd \u001b[38;5;241m=\u001b[39m {loc: lab \u001b[38;5;28;01mfor\u001b[39;00m loc, lab \u001b[38;5;129;01min\u001b[39;00m \u001b[38;5;28mzip\u001b[39m(locator\u001b[38;5;241m.\u001b[39mlocs, labels)}\n\u001b[1;32m   2123\u001b[0m     func \u001b[38;5;241m=\u001b[39m functools\u001b[38;5;241m.\u001b[39mpartial(\u001b[38;5;28mself\u001b[39m\u001b[38;5;241m.\u001b[39m_format_with_dict, tickd)\n",
            "\u001b[0;31mValueError\u001b[0m: The number of FixedLocator locations (2), usually from a call to set_ticks, does not match the number of labels (3)."
          ]
        },
        {
          "data": {
            "image/png": "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",
            "text/plain": [
              "<Figure size 640x480 with 2 Axes>"
            ]
          },
          "metadata": {},
          "output_type": "display_data"
        }
      ],
      "source": [
        "report(model, test_dataloader, loss_ce)"
      ]
    }
  ],
  "metadata": {
    "colab": {
      "provenance": []
    },
    "kernelspec": {
      "display_name": "machine_learning_env",
      "language": "python",
      "name": "python3"
    },
    "language_info": {
      "codemirror_mode": {
        "name": "ipython",
        "version": 3
      },
      "file_extension": ".py",
      "mimetype": "text/x-python",
      "name": "python",
      "nbconvert_exporter": "python",
      "pygments_lexer": "ipython3",
      "version": "3.12.3"
    }
  },
  "nbformat": 4,
  "nbformat_minor": 0
}
=======
  "nbformat": 4,
  "nbformat_minor": 0,
  "metadata": {
    "colab": {
      "provenance": [],
      "authorship_tag": "ABX9TyPmXILGTFUEM1Sexn6f4/48",
      "include_colab_link": true
    },
    "kernelspec": {
      "name": "python3",
      "display_name": "Python 3"
    },
    "language_info": {
      "name": "python"
    }
  },
  "cells": [
    {
      "cell_type": "markdown",
      "metadata": {
        "id": "view-in-github",
        "colab_type": "text"
      },
      "source": [
        "<a href=\"https://colab.research.google.com/github/flavioialongo/deepfake_detector/blob/main/DeepfakeDetector.ipynb\" target=\"_parent\"><img src=\"https://colab.research.google.com/assets/colab-badge.svg\" alt=\"Open In Colab\"/></a>"
      ]
    },
    {
      "cell_type": "code",
      "execution_count": 1,
      "metadata": {
        "colab": {
          "base_uri": "https://localhost:8080/"
        },
        "id": "L-vMQ5A9pD5c",
        "outputId": "c6cb59f4-36b2-4664-ac38-c4b227793c00"
      },
      "outputs": [
        {
          "output_type": "stream",
          "name": "stdout",
          "text": [
            "Mounted at /content/drive\n"
          ]
        }
      ],
      "source": [
        "from google.colab import drive\n",
        "drive.mount('/content/drive')"
      ]
    }
  ]
}
>>>>>>> fdf19999349f8e74ef2f7530bfb5b8a2633bf57b
